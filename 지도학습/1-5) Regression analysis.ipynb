{
 "cells": [
  {
   "cell_type": "markdown",
   "id": "ce120e5d",
   "metadata": {},
   "source": [
    "<h1>회귀 분석</h1>\n",
    "<br>\n",
    "<div>\n",
    "  <ul>\n",
    "   <p>독립변수가 종속변수에 영향을 미치는지 확인하기 위한 분석</p>\n",
    "   <p>회귀모형과 회귀계수들이 유의한지 확인</p>\n",
    "   <p>변수들에 따라 선형 회귀, 다항회귀, 로지스틱 회귀 등 다양한 유형이 존재 </p>\n",
    "  </ul>\n",
    "</div>\n",
    "\n",
    "```\n",
    "1. 독립변수와 종속변수 선택\n",
    "2. 회귀식 적합성 확인\n",
    "3. 회귀 계수 선택\n",
    "4. 다중공선성, 결정계수 확인\n",
    "5. 잔차 분석(정규성, 등분산성, 독립성)\n",
    "6. 최종 모형 선정\n",
    "```\n",
    "<h2>가정 검토</h2>\n",
    "<br>\n",
    "<div>\n",
    "    <ul>\n",
    "        <p>선형회귀를 사용하기 위해서는 <span style=\"font-weight:bold\">4가지(선형성, 독립성, 등분산성, 정규성)</span>의 가정을 충족해야 함</p>\n",
    "        <p><span style=\"font-weight:bold\">선형성</span> : 독립변수와 종속변수는 선형적인 관계</p>\n",
    "        <p><span style=\"font-weight:bold\">독립성</span> : 변수들간의 관계가 없음</p>\n",
    "        <p><span style=\"font-weight:bold\">등분산성</span> : 잔차가 하나의 분산을 가져야 함</p>\n",
    "        <p><span style=\"font-weight:bold\">정규성</span> : 잔차가 정규분포를 가져야 함</p>\n",
    "    </ul>\n",
    "</div>"
   ]
  },
  {
   "cell_type": "markdown",
   "id": "9f401308",
   "metadata": {},
   "source": [
    "<span style=\"color:red; font-size:20px\"> 장점 </span>\n",
    "```\n",
    "1. 빠르고 효율적\n",
    "2. 데이터의 크기에 상관없이 동작\n",
    "```\n",
    "<span style=\"color:blue; font-size:20px\"> 단점 </span>\n",
    "```\n",
    "1. 수치 특징이 많은 데이터에는 부적절\n",
    "2. 모든 피쳐가 동일하고 독립이라는 가정이 위배되는 경우 많음\n",
    "```"
   ]
  },
  {
   "cell_type": "code",
   "execution_count": null,
   "id": "d7b3f578",
   "metadata": {},
   "outputs": [],
   "source": []
  }
 ],
 "metadata": {
  "kernelspec": {
   "display_name": "venv",
   "language": "python",
   "name": "venv"
  },
  "language_info": {
   "codemirror_mode": {
    "name": "ipython",
    "version": 3
   },
   "file_extension": ".py",
   "mimetype": "text/x-python",
   "name": "python",
   "nbconvert_exporter": "python",
   "pygments_lexer": "ipython3",
   "version": "3.9.9"
  }
 },
 "nbformat": 4,
 "nbformat_minor": 5
}
