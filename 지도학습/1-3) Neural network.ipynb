{
 "cells": [
  {
   "cell_type": "markdown",
   "id": "af8ffe99",
   "metadata": {},
   "source": [
    "# Nerual network\n",
    "---\n",
    "<span style=\"font-size:17px; font-weight:bold\">활성화 함수</span>\n",
    "<br>\n",
    "<div>\n",
    "  <ul>\n",
    "   <p>어떤 신호를 입력 받아 적절한 처리를 하고 출력하는 함수</p>\n",
    "   <p>딥러닝에서 노드에 입력된 값들을 비선형 활성화 함수에 통과시킨 후 다음 레이어로 전달</p>\n",
    "   <p>비선형 함수를 쓰는 이유는 딥러닝 모델의 층을 깊게 할 수 있기 때문</p>\n",
    "      <p> 활성화 함수의 종류로는 <span style=\"color:blue\"> step, sigmoid, relu, softmax</span>등 존재</p>\n",
    "  </ul>\n",
    "</div>\n",
    "<br>\n",
    "\n",
    "```\n",
    "1) Step function\n",
    "    - 각 부분구간에서 상수로 불연속적인 함수\n",
    "```\n",
    "<img src=\"img/step_function.PNG\" width=\"230px\"></img>\n",
    "\n",
    "\n",
    "```\n",
    "2) Sigmoid function\n",
    "    - 항상 0과 1사이의 값만 가질 수 있는 비선형 함수\n",
    "    - 로지스틱 회귀분석에서 사용\n",
    "```\n",
    "<img src=\"img/sigmoid_function.PNG\" width=\"230px\"></img>\n",
    "\n",
    "```\n",
    "3) Relu function\n",
    "    - 가장 많이 사용되는 활성화 함수 중 하나\n",
    "    - Gradient Vanishing 문제를 해결하기 위한 함수\n",
    "```\n",
    "<span style=\"color:red\">Gradient Vanishing : sigmoid 함수는 0과 1 사이의 출력값을 가질때 결국 0에 매운 가까운 값으로 수렴 </span> \n",
    "<img src=\"img/relu_function.PNG\" width=\"230px\"></img>\n",
    "\n",
    "\n",
    "```\n",
    "4) Leaky Relu function\n",
    "    - ReLU가 갖는 Dying ReLU(뉴런이 죽는 현상) 을 해결하기 위해 나온 함수\n",
    "    - 0.01이 아니라 매우 작은 값이라면 무엇이든 사용 가능\n",
    "```\n",
    "<img src=\"img/leaky_relu_function.PNG\" width=\"230px\"></img>\n",
    "\n",
    "\n",
    "```\n",
    "5) Softmax function\n",
    "    - 다중 클래스 분류 모델을 만들 때 사용\n",
    "    - 결과를 확률로 해석할 수 있게 변환해주는 함수로 높은 확률을 가지는 class로 분류\n",
    "```\n",
    "<br>\n",
    "<span style=\"font-size:17px; font-weight:bold\">단층 퍼셉트론</span>\n",
    "<br>\n",
    "<div>\n",
    "  <ul>\n",
    "   <p>다수의 신호를 입력으로 받아 하나의 신호를 출력</p>\n",
    "   <p>가중치와 편향을 매개변수로 설정</p>\n",
    "   <p>입력층과 출력층만 존재</p>\n",
    "   <p>가중치를 가지는 층이 한 층이기 때문에 단층 퍼셉트론이라고 함</p>\n",
    "   <p style=\"color:blue\">직선형 영역만 표현 가능</p>\n",
    "   <p style=\"color:blue\">XOR연산 불가능</p>\n",
    "  </ul>\n",
    "</div>\n",
    "<br>\n",
    "\n",
    "<span style=\"font-size:17px; font-weight:bold\">다층 퍼셉트론</span>\n",
    "<br>\n",
    "<div>\n",
    "  <ul>\n",
    "   <p>입력층과 출력층을 제외하고 은닉층이 존재</p>\n",
    "   <p>선형분류만으로 풀지 못 했던 문제를 비선형 문제로 풀 수 잇음</p>\n",
    "   <p>오차역전파 알고리즘을 통해 오차를 업데이트</p>\n",
    "  </ul>\n",
    "</div>\n",
    "<br>"
   ]
  },
  {
   "cell_type": "code",
   "execution_count": 28,
   "id": "30d2c84a",
   "metadata": {},
   "outputs": [],
   "source": [
    "import tensorflow as tf\n",
    "import numpy as np\n",
    "import matplotlib.pyplot as plt\n",
    "\n",
    "fashion_mnist = tf.keras.datasets.fashion_mnist\n",
    "\n",
    "(train_images, train_labels), (test_images, test_labels) = fashion_mnist.load_data()\n",
    "\n",
    "class_names = ['T-shirt/top', 'Trouser', 'Pullover', 'Dress', 'Coat',\n",
    "               'Sandal', 'Shirt', 'Sneaker', 'Bag', 'Ankle boot']"
   ]
  },
  {
   "cell_type": "code",
   "execution_count": 29,
   "id": "b0cf7b9e",
   "metadata": {},
   "outputs": [],
   "source": [
    "# 이미지의 픽셀 값을 0~1 사이로 변경\n",
    "train_images = train_images / 255.0\n",
    "test_images = test_images / 255.0"
   ]
  },
  {
   "cell_type": "code",
   "execution_count": 30,
   "id": "61542c18",
   "metadata": {},
   "outputs": [],
   "source": [
    "# 각 레이블 시각화\n",
    "# plt.figure(figsize=(10,10))\n",
    "# for i in range(25):\n",
    "#     plt.subplot(5,5,i+1)\n",
    "#     plt.xticks([])\n",
    "#     plt.yticks([])\n",
    "#     plt.grid(False)\n",
    "#     plt.imshow(train_images[i], cmap=plt.cm.binary)\n",
    "#     plt.xlabel(class_names[train_labels[i]])\n",
    "# plt.show()"
   ]
  },
  {
   "cell_type": "code",
   "execution_count": 31,
   "id": "686aa334",
   "metadata": {},
   "outputs": [
    {
     "name": "stdout",
     "output_type": "stream",
     "text": [
      "Epoch 1/10\n",
      "1875/1875 [==============================] - 3s 1ms/step - loss: 0.5066 - accuracy: 0.8230\n",
      "Epoch 2/10\n",
      "1875/1875 [==============================] - 3s 1ms/step - loss: 0.3787 - accuracy: 0.8634\n",
      "Epoch 3/10\n",
      "1875/1875 [==============================] - 3s 1ms/step - loss: 0.3397 - accuracy: 0.8755\n",
      "Epoch 4/10\n",
      "1875/1875 [==============================] - 3s 1ms/step - loss: 0.3162 - accuracy: 0.8832\n",
      "Epoch 5/10\n",
      "1875/1875 [==============================] - 3s 1ms/step - loss: 0.2970 - accuracy: 0.8903\n",
      "Epoch 6/10\n",
      "1875/1875 [==============================] - 2s 1ms/step - loss: 0.2826 - accuracy: 0.8956\n",
      "Epoch 7/10\n",
      "1875/1875 [==============================] - 3s 1ms/step - loss: 0.2709 - accuracy: 0.8986\n",
      "Epoch 8/10\n",
      "1875/1875 [==============================] - 3s 1ms/step - loss: 0.2584 - accuracy: 0.9045\n",
      "Epoch 9/10\n",
      "1875/1875 [==============================] - 2s 1ms/step - loss: 0.2501 - accuracy: 0.9061\n",
      "Epoch 10/10\n",
      "1875/1875 [==============================] - 2s 1ms/step - loss: 0.2398 - accuracy: 0.9106\n",
      "313/313 - 0s - loss: 0.3408 - accuracy: 0.8803 - 362ms/epoch - 1ms/step\n",
      "\n",
      "Test accuracy: 0.880299985408783\n"
     ]
    }
   ],
   "source": [
    "# 모델 생성\n",
    "model = tf.keras.Sequential([\n",
    "    tf.keras.layers.Flatten(input_shape=(28, 28)),\n",
    "    tf.keras.layers.Dense(128, activation='relu'),\n",
    "    tf.keras.layers.Dense(10)\n",
    "])\n",
    "\n",
    "model.compile(optimizer='adam', loss=tf.keras.losses.SparseCategoricalCrossentropy(from_logits=True), metrics=['accuracy'])\n",
    "\n",
    "model.fit(train_images, train_labels, epochs=10)\n",
    "test_loss, test_acc = model.evaluate(test_images,  test_labels, verbose=2)\n",
    "\n",
    "print('\\nTest accuracy:', test_acc)"
   ]
  },
  {
   "cell_type": "code",
   "execution_count": 32,
   "id": "d420e332",
   "metadata": {},
   "outputs": [
    {
     "name": "stdout",
     "output_type": "stream",
     "text": [
      "313/313 [==============================] - 0s 950us/step\n",
      "9 9\n"
     ]
    }
   ],
   "source": [
    "probability_model = tf.keras.Sequential([model, \n",
    "                                         tf.keras.layers.Softmax()])\n",
    "\n",
    "predictions = probability_model.predict(test_images)\n",
    "print(np.argmax(predictions[0]), test_labels[0])"
   ]
  }
 ],
 "metadata": {
  "kernelspec": {
   "display_name": "venv",
   "language": "python",
   "name": "venv"
  },
  "language_info": {
   "codemirror_mode": {
    "name": "ipython",
    "version": 3
   },
   "file_extension": ".py",
   "mimetype": "text/x-python",
   "name": "python",
   "nbconvert_exporter": "python",
   "pygments_lexer": "ipython3",
   "version": "3.9.9"
  }
 },
 "nbformat": 4,
 "nbformat_minor": 5
}
