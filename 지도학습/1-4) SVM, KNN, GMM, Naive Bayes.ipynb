{
 "cells": [
  {
   "cell_type": "markdown",
   "id": "6b9a727b",
   "metadata": {},
   "source": [
    "<h1>SVM(Support Vector Machine)</h1>\n",
    "<br>\n",
    "<div>\n",
    "  <ul>\n",
    "   <p>분류 과제에 사용할 수 있는 강력한 머신러닝 지도학습 모델</p>\n",
    "   <p>결정 경계(분류를 위한 기준 선)을 정의하는 모델</p>\n",
    "   <p>결정 경계는 선일수도 평면일수도 있음( 고차원이 될수록 초평면이라고 함 )</p>\n",
    "   <p>결정 경계는 분리되어야 하는 데이터들로부터 최대한 떨어져있는게 좋음</p>\n",
    "   <p><span style=\"font-weight:bold\">서포트 벡터 (support vector)</span> : 결정 경계와 가장 가까이 있는 데이터 포인트</p>\n",
    "   <p><span style=\"font-weight:bold\">마진(margin)</span> : 결정 경계와 서포트 벡터 사이의 거리</p>\n",
    "  </ul>\n",
    "</div>\n",
    "\n",
    "<span style=\"color:red; font-size:20px\"> 장점 </span>\n",
    "```\n",
    "1. 서포트 벡터만 잘 선택하면 많은 데이터 포인트를 무시하여 학습 시 빠른 속도를 가짐\n",
    "2. 분류/예측 사용 가능\n",
    "3. 예측 정확도가 높음\n",
    "4. 과적합 정도가 비교적 적음\n",
    "```\n",
    "<span style=\"color:blue; font-size:20px\"> 단점 </span>\n",
    "```\n",
    "1. 최적화된 모형을 찾기 위해 여러가지 시도를 해봐야함\n",
    "2. 모형 구축 시간이 오래걸림\n",
    "3. 결과에 대한 설명력이 떨어짐\n",
    "```\n",
    "\n",
    "<p><span style=\"font-weight:bold\">Hard margin</span> : 이상치를 허용하지 않고 결정 경계 생성 -> 과적합의 문제 발생 가능</p>\n",
    "\n",
    "<p><span style=\"font-weight:bold\">Soft margin</span> : 이상치들은 마진 안에 허용하여 결정 경계 생성 -> 과소적합의 문제 발생 가능</p>"
   ]
  },
  {
   "cell_type": "code",
   "execution_count": 37,
   "id": "185e32fc",
   "metadata": {},
   "outputs": [],
   "source": [
    "import numpy as np\n",
    "from sklearn import datasets\n",
    "from sklearn.model_selection import train_test_split\n",
    "from sklearn.metrics import mean_squared_error, accuracy_score\n",
    "import matplotlib.pyplot as plt\n",
    "plt.rc('font', family='Malgun Gothic')\n",
    "import warnings\n",
    "warnings.filterwarnings(action='ignore')"
   ]
  },
  {
   "cell_type": "code",
   "execution_count": 30,
   "id": "d3401b7e",
   "metadata": {},
   "outputs": [
    {
     "name": "stdout",
     "output_type": "stream",
     "text": [
      "0.9666666666666667\n"
     ]
    }
   ],
   "source": [
    "# svm 분류\n",
    "\"\"\"\n",
    "# C의 값으로 오류를 어느정도 허용할 것 인지 설정 ( 기본값은 1 )\n",
    "# C값이 클수록 하드마진, 작을수록 소프트마진\n",
    "# kernel은 linear(선형) / poly(다항식) / rbf(가우시안 : 2차원의 점을 무한차원의 점으로 변경)\n",
    "# gamma는 결정 경계를 얼마나 유연하게 그을 것인지 설정\n",
    "# gamma값이 크면 결정 경계가 구불구불, 낮으면 직선에 가까운 결정 경계\n",
    "\"\"\"\n",
    "\n",
    "from sklearn.preprocessing import StandardScaler\n",
    "from sklearn.svm import SVC\n",
    "\n",
    "\n",
    "iris_dataset = datasets.load_iris()\n",
    "X_train, X_test, y_train, y_test = train_test_split(iris_dataset['data'], iris_dataset['target'], test_size = 0.2) \n",
    "\n",
    "# 표준화 \n",
    "sc = StandardScaler()\n",
    "sc.fit(X_train)\n",
    " \n",
    "X_train_std = sc.transform(X_train)\n",
    "X_test_std = sc.transform(X_test)\n",
    " \n",
    "# 모델 생성\n",
    "svm_model = SVC(kernel='rbf', C=8, gamma=0.1)\n",
    " \n",
    "svm_model.fit(X_train_std, y_train)\n",
    "y_pred = svm_model.predict(X_test_std)\n",
    "# 정확도\n",
    "print(accuracy_score(y_test, y_pred))"
   ]
  },
  {
   "cell_type": "code",
   "execution_count": 31,
   "id": "c0598582",
   "metadata": {},
   "outputs": [
    {
     "name": "stdout",
     "output_type": "stream",
     "text": [
      "46.89011576178491\n"
     ]
    }
   ],
   "source": [
    "# svm 회귀\n",
    "\"\"\"\n",
    "svm 회귀는 svc와 반대로 마진안에 최대한 데이터가 많이 들어가게 학습\n",
    "마진의 폭은 epilson으로 조절 가능\n",
    "\"\"\"\n",
    "from sklearn.svm import SVR\n",
    "from sklearn.metrics import mean_squared_error\n",
    "from sklearn.utils import shuffle\n",
    "\n",
    "data = datasets.load_boston()\n",
    "\n",
    "X, y = shuffle(data.data, data.target, random_state = 7)\n",
    "X_train, X_test, y_train, y_test = train_test_split(X, y, test_size = 0.2) \n",
    "\n",
    "svr = SVR(kernel='linear', C=1.0, epsilon=0.1)\n",
    "svr.fit(X_train, y_train)\n",
    "\n",
    "y_pred = sv_regressor.predict(X_test)\n",
    "\n",
    "mse = mean_squared_error(y_test, y_pred)\n",
    "print(mse)"
   ]
  },
  {
   "cell_type": "markdown",
   "id": "370c8d08",
   "metadata": {},
   "source": [
    "<h1>KNN(k-Nearest Neighbors)</h1>\n",
    "<br>\n",
    "<div>\n",
    "  <ul>\n",
    "   <p>가장 가까운 k개의 데이터를 바탕으로 새로운 데이터 예측 및 분류</p>\n",
    "   <p>분류 모델 생성 시 인접한 k개의 데이터 중 빈도가 높은 레이블을 가짐</p>\n",
    "   <p>거리를 측정할 때는 euclidian distance 사용</p>\n",
    "   <p>데이터 사이의 거리를 측정하는 방법과 k의 수가 가장 중요한 매개변수</p>\n",
    "  </ul>\n",
    "</div>\n",
    "\n",
    "<span style=\"color:red; font-size:20px\"> 장점 </span>\n",
    "```\n",
    "1. 단순하고 효율적\n",
    "2. 빠른 훈련 속도\n",
    "3. 데이터 분류 작업에서 우수한 성능\n",
    "```\n",
    "<span style=\"color:blue; font-size:20px\"> 단점 </span>\n",
    "```\n",
    "1. 적절한 k를 선택하기 어려움\n",
    "2. 데이터가 많아지면 속도도 증가\n",
    "3. 희소한 데이터에 작동이 어려움\n",
    "```"
   ]
  },
  {
   "cell_type": "code",
   "execution_count": 38,
   "id": "9a71e37c",
   "metadata": {},
   "outputs": [
    {
     "data": {
      "image/png": "[encoded data removed]",
      "text/plain": [
       "<Figure size 432x288 with 1 Axes>"
      ]
     },
     "metadata": {
      "needs_background": "light"
     },
     "output_type": "display_data"
    }
   ],
   "source": [
    "# knn 분류\n",
    "from sklearn.datasets import load_breast_cancer\n",
    "from sklearn.neighbors import KNeighborsClassifier\n",
    "\n",
    "cancer = load_breast_cancer()\n",
    "X_train, X_test, y_train, y_test = train_test_split(cancer.data, cancer.target, stratify=cancer.target, random_state=42)\n",
    "\n",
    "training_accurcy = []\n",
    "test_accurcy = []\n",
    "neighbors_settings = range(1, 11)\n",
    "\n",
    "for n_neighbors in neighbors_settings:\n",
    "    knn = KNeighborsClassifier(n_neighbors)\n",
    "    knn.fit(X_train, y_train)\n",
    "    training_accurcy.append(knn.score(X_train, y_train))\n",
    "    test_accurcy.append(knn.score(X_test, y_test))\n",
    "\n",
    "plt.plot(neighbors_settings, training_accurcy, label=\"훈련 정확도\")\n",
    "plt.plot(neighbors_settings, test_accurcy, label=\"테스트 정확도\")\n",
    "plt.legend()\n",
    "plt.show()"
   ]
  },
  {
   "cell_type": "markdown",
   "id": "5e9516b5",
   "metadata": {},
   "source": [
    "<h1>GMM(Gaussian Mixture Model)</h1>\n",
    "<br>\n",
    "<div>\n",
    "  <ul>\n",
    "   <p>Gaussian 분포가 여러 개 혼합된 clustering 알고리즘</p>\n",
    "   <p>k개의 Gaussian 분포가 혼합되지만 k는 사용자가 직접 설정</p>\n",
    "  </ul>\n",
    "</div>\n",
    "\n",
    "<span style=\"color:red; font-size:20px\"> 장점 </span>\n",
    "```\n",
    "1. 유연하며 다양한 데이터에 적용이 가능\n",
    "```\n",
    "<span style=\"color:blue; font-size:20px\"> 단점 </span>\n",
    "```\n",
    "1. 군집화를 위한 수행 시간이 오래 걸림\n",
    "2. 많은 데이터가 필요\n",
    "```\n"
   ]
  },
  {
   "cell_type": "code",
   "execution_count": 1,
   "id": "21d39aa6",
   "metadata": {},
   "outputs": [
    {
     "name": "stdout",
     "output_type": "stream",
     "text": [
      "target  gmm_cluster\n",
      "0       1              50\n",
      "1       2              45\n",
      "        0               5\n",
      "2       0              50\n",
      "Name: gmm_cluster, dtype: int64\n"
     ]
    }
   ],
   "source": [
    "from sklearn.datasets import load_iris\n",
    "import numpy as np\n",
    "import pandas as pd\n",
    "\n",
    "iris = load_iris()\n",
    "feature_names = ['sepal_length','sepal_width','petal_length','petal_width']\n",
    "\n",
    "irisDF = pd.DataFrame(data=iris.data, columns=feature_names)\n",
    "irisDF['target'] = iris.target\n",
    "\n",
    "from sklearn.mixture import GaussianMixture\n",
    "# n_components로 미리 군집 개수 설정\n",
    "gmm = GaussianMixture(n_components=3, random_state=42)\n",
    "gmm_labels = gmm.fit_predict(iris.data)\n",
    "\n",
    "# GMM 후 클러스터링 레이블을 따로 설정\n",
    "irisDF['gmm_cluster'] = gmm_labels\n",
    "\n",
    "print(irisDF.groupby('target')['gmm_cluster'].value_counts())"
   ]
  },
  {
   "cell_type": "markdown",
   "id": "40686d7c",
   "metadata": {},
   "source": [
    "<h1>Naive Bayes Classification</h1>\n",
    "<br>\n",
    "<div>\n",
    "  <ul>\n",
    "   <p>데이터가 각 클래스에 속할 특징 확률을 계산하는 조건부 확률 기반의 분류 방법</p>\n",
    "      <p>GaussianNB, BernoulliNB, MultinomialNB 세 가지 분류기 존재</p>\n",
    "  </ul>\n",
    "</div>\n",
    "\n",
    "<span style=\"color:red; font-size:20px\"> 장점 </span>\n",
    "```\n",
    "1. 빠르고 효율적\n",
    "2. 데이터의 크기에 상관없이 동작\n",
    "```\n",
    "<span style=\"color:blue; font-size:20px\"> 단점 </span>\n",
    "```\n",
    "1. 수치 특징이 많은 데이터에는 부적절\n",
    "2. 모든 피쳐가 동일하고 독립이라는 가정이 위배되는 경우 많음\n",
    "```\n"
   ]
  },
  {
   "cell_type": "code",
   "execution_count": 9,
   "id": "70186863",
   "metadata": {},
   "outputs": [
    {
     "name": "stdout",
     "output_type": "stream",
     "text": [
      "0.9466666666666667\n"
     ]
    }
   ],
   "source": [
    "from sklearn.datasets import load_iris\n",
    "from sklearn.model_selection import train_test_split\n",
    "from sklearn.naive_bayes import GaussianNB\n",
    "from sklearn.metrics import accuracy_score\n",
    "\n",
    "X,y = load_iris(return_X_y=True)\n",
    "\n",
    "X_train, X_test, y_train, y_test = train_test_split(X, y, test_size=0.5, random_state=0)\n",
    "\n",
    "gaussian = GaussianNB()\n",
    "\n",
    "y_pred = gaussian.fit(X_train, y_train)\n",
    "pred = nb.predict(X_test)    \n",
    "accuracy = accuracy_score(pred, y_test)   \n",
    "print(accuracy)"
   ]
  }
 ],
 "metadata": {
  "kernelspec": {
   "display_name": "venv",
   "language": "python",
   "name": "venv"
  },
  "language_info": {
   "codemirror_mode": {
    "name": "ipython",
    "version": 3
   },
   "file_extension": ".py",
   "mimetype": "text/x-python",
   "name": "python",
   "nbconvert_exporter": "python",
   "pygments_lexer": "ipython3",
   "version": "3.9.9"
  }
 },
 "nbformat": 4,
 "nbformat_minor": 5
}
